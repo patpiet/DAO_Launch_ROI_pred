{
 "cells": [
  {
   "cell_type": "code",
   "execution_count": 103,
   "id": "a6b154c3",
   "metadata": {},
   "outputs": [
    {
     "name": "stderr",
     "output_type": "stream",
     "text": [
      "Intel(R) Extension for Scikit-learn* enabled (https://github.com/intel/scikit-learn-intelex)\n"
     ]
    }
   ],
   "source": [
    "import pandas as pd\n",
    "import matplotlib.pyplot as plt\n",
    "import numpy as np\n",
    "from sklearnex import patch_sklearn\n",
    "patch_sklearn()"
   ]
  },
  {
   "cell_type": "code",
   "execution_count": 104,
   "id": "6e1b1685",
   "metadata": {},
   "outputs": [
    {
     "data": {
      "text/plain": [
       "Index(['name', 'money_raised', 'ATH_ROI', 'catg', 'VC', 'MM', 'cap_controlled',\n",
       "       'dao_approved', 'cg_id', 'launch_date', 'chain', 'btc_fg_index',\n",
       "       'launch_month', 'desc', 'desc_len', 'token_ratio', 'marketing_ratio',\n",
       "       'user_ratio'],\n",
       "      dtype='object')"
      ]
     },
     "execution_count": 104,
     "metadata": {},
     "output_type": "execute_result"
    }
   ],
   "source": [
    "df = pd.read_csv('dao_maker_launches_cleaned.csv', sep='\\t').drop(['Unnamed: 0'], axis=1)\n",
    "# choose relevant columns\n",
    "# get dummy data\n",
    "# train test split\n",
    "# multiple linear regression\n",
    "# lasso regression\n",
    "# random forest\n",
    "# svr regression\n",
    "# tune models using GridsearchCV\n",
    "# test ensembles\n",
    "df.columns\n"
   ]
  },
  {
   "cell_type": "code",
   "execution_count": 105,
   "id": "0d4f1b0d",
   "metadata": {},
   "outputs": [],
   "source": [
    "# choosing columns\n",
    "df_model = df[['money_raised', 'ATH_ROI', 'catg', 'VC', 'MM', 'cap_controlled',\n",
    "       'dao_approved', 'chain', 'btc_fg_index','launch_month', 'desc_len', \n",
    "        'token_ratio', 'marketing_ratio', 'user_ratio']]"
   ]
  },
  {
   "cell_type": "code",
   "execution_count": 106,
   "id": "b12c2b4e",
   "metadata": {},
   "outputs": [],
   "source": [
    "# get dummies\n",
    "df_dummy = pd.get_dummies(df_model)"
   ]
  },
  {
   "cell_type": "code",
   "execution_count": 110,
   "id": "fa63fcf6",
   "metadata": {},
   "outputs": [],
   "source": [
    "# train test split\n",
    "from sklearn.model_selection import train_test_split\n",
    "X = df_dummy.drop(['ATH_ROI'], axis=1).values\n",
    "y = df_dummy['ATH_ROI'].values\n",
    "\n",
    "X_train, X_test, y_train, y_test = train_test_split(X, y, test_size=0.2, random_state=42)"
   ]
  },
  {
   "cell_type": "code",
   "execution_count": 123,
   "id": "c676938e",
   "metadata": {},
   "outputs": [
    {
     "name": "stdout",
     "output_type": "stream",
     "text": [
      "-38.075040922071544\n"
     ]
    },
    {
     "data": {
      "text/plain": [
       "[<matplotlib.lines.Line2D at 0x175b5c00430>]"
      ]
     },
     "execution_count": 123,
     "metadata": {},
     "output_type": "execute_result"
    },
    {
     "data": {
      "image/png": "[encoded data removed]",
      "text/plain": [
       "<Figure size 432x288 with 1 Axes>"
      ]
     },
     "metadata": {
      "needs_background": "light"
     },
     "output_type": "display_data"
    }
   ],
   "source": [
    "from sklearn.linear_model importLasso\n",
    "from sklearn.model_selection import cross_val_score\n",
    "\n",
    "# Lasso regression\n",
    "lm_l = Lasso(alpha=0.7).fit(X_train, y_train)\n",
    "\n",
    "print(np.mean(cross_val_score(lm_l, X_train, y_train, scoring='neg_mean_absolute_error', cv=3)))\n",
    "\n",
    "alpha = []\n",
    "error = []\n",
    "\n",
    "for i in range(1,100):\n",
    "    alpha.append(i/10)\n",
    "    lm_l2 = Lasso(alpha=(i/10))\n",
    "    error.append(np.mean(cross_val_score(lm_l2, X_train, y_train, scoring='neg_mean_absolute_error', cv=3)))\n",
    "\n",
    "    \n",
    "plt.plot(alpha, error)"
   ]
  },
  {
   "cell_type": "code",
   "execution_count": 117,
   "id": "a74f8ad7",
   "metadata": {},
   "outputs": [
    {
     "data": {
      "text/plain": [
       "(0.7, -38.075040922071544)"
      ]
     },
     "execution_count": 117,
     "metadata": {},
     "output_type": "execute_result"
    }
   ],
   "source": [
    "err = tuple(zip(alpha, error))\n",
    "max(err, key = lambda x: x[1])"
   ]
  },
  {
   "cell_type": "code",
   "execution_count": 84,
   "id": "6da9319d",
   "metadata": {},
   "outputs": [
    {
     "data": {
      "text/plain": [
       "-40.76074444444445"
      ]
     },
     "execution_count": 84,
     "metadata": {},
     "output_type": "execute_result"
    }
   ],
   "source": [
    "from sklearn.ensemble import RandomForestRegressor\n",
    "\n",
    "rf = RandomForestRegressor()\n",
    "\n",
    "np.mean(cross_val_score(rf, X_train, y_train, scoring='neg_mean_absolute_error', cv=3))"
   ]
  },
  {
   "cell_type": "code",
   "execution_count": 87,
   "id": "7ef4b8df",
   "metadata": {},
   "outputs": [
    {
     "data": {
      "text/plain": [
       "GridSearchCV(cv=3, estimator=RandomForestRegressor(),\n",
       "             param_grid={'criterion': ('squared_error', 'absolute_error',\n",
       "                                       'poisson'),\n",
       "                         'max_depth': range(1, 10, 2),\n",
       "                         'max_features': ('auto', 'sqrt', 'log2'),\n",
       "                         'n_estimators': range(10, 300, 10)},\n",
       "             scoring='neg_mean_absolute_error')"
      ]
     },
     "execution_count": 87,
     "metadata": {},
     "output_type": "execute_result"
    }
   ],
   "source": [
    "# tune Random forest with GridSearch\n",
    "from sklearn.model_selection import GridSearchCV\n",
    "\n",
    "parameters = {'n_estimators': range(10,300, 10), 'criterion': ('squared_error', 'absolute_error', 'poisson'), \n",
    "              'max_features': ('auto', 'sqrt', 'log2'), 'max_depth': range(1,10,2)}\n",
    "\n",
    "gs = GridSearchCV(rf, param_grid=parameters, scoring='neg_mean_absolute_error', cv=3)\n",
    "gs.fit(X_train, y_train)"
   ]
  },
  {
   "cell_type": "code",
   "execution_count": 100,
   "id": "c735b269",
   "metadata": {},
   "outputs": [
    {
     "name": "stdout",
     "output_type": "stream",
     "text": [
      "-32.2308611111111\n",
      "RandomForestRegressor(criterion='absolute_error', max_depth=5,\n",
      "                      max_features='log2', n_estimators=10)\n"
     ]
    }
   ],
   "source": [
    "# RandomForestRegressor(criterion='absolute_error', max_depth=5,\n",
    "#                       max_features='log2', n_estimators=10)\n",
    "\n",
    "print(gs.best_score_)\n",
    "print(gs.best_estimator_)"
   ]
  },
  {
   "cell_type": "code",
   "execution_count": 98,
   "id": "5e919cc2",
   "metadata": {},
   "outputs": [
    {
     "data": {
      "text/plain": [
       "-34.41764242253431"
      ]
     },
     "execution_count": 98,
     "metadata": {},
     "output_type": "execute_result"
    }
   ],
   "source": [
    "# SVR\n",
    "from sklearn.svm import SVR\n",
    "\n",
    "svr = SVR()\n",
    "\n",
    "np.mean(cross_val_score(svr, X_train, y_train, scoring='neg_mean_absolute_error', cv=3))"
   ]
  },
  {
   "cell_type": "code",
   "execution_count": 99,
   "id": "97f68cbb",
   "metadata": {},
   "outputs": [
    {
     "name": "stdout",
     "output_type": "stream",
     "text": [
      "Fitting 3 folds for each of 20 candidates, totalling 60 fits\n",
      "[CV] END .....................C=0.1, gamma=scale, kernel=rbf; total time=   0.0s\n",
      "[CV] END .....................C=0.1, gamma=scale, kernel=rbf; total time=   0.0s\n",
      "[CV] END .....................C=0.1, gamma=scale, kernel=rbf; total time=   0.0s\n",
      "[CV] END ..................C=0.1, gamma=scale, kernel=linear; total time=   7.9s\n",
      "[CV] END ..................C=0.1, gamma=scale, kernel=linear; total time=  10.6s\n",
      "[CV] END ..................C=0.1, gamma=scale, kernel=linear; total time=  11.2s\n",
      "[CV] END ......................C=0.1, gamma=auto, kernel=rbf; total time=   0.0s\n",
      "[CV] END ......................C=0.1, gamma=auto, kernel=rbf; total time=   0.0s\n",
      "[CV] END ......................C=0.1, gamma=auto, kernel=rbf; total time=   0.0s\n",
      "[CV] END ...................C=0.1, gamma=auto, kernel=linear; total time=   8.1s\n",
      "[CV] END ...................C=0.1, gamma=auto, kernel=linear; total time=  10.9s\n",
      "[CV] END ...................C=0.1, gamma=auto, kernel=linear; total time=  11.6s\n",
      "[CV] END .......................C=1, gamma=scale, kernel=rbf; total time=   0.0s\n",
      "[CV] END .......................C=1, gamma=scale, kernel=rbf; total time=   0.0s\n",
      "[CV] END .......................C=1, gamma=scale, kernel=rbf; total time=   0.0s\n",
      "[CV] END ....................C=1, gamma=scale, kernel=linear; total time=   8.3s\n",
      "[CV] END ....................C=1, gamma=scale, kernel=linear; total time=   8.0s\n",
      "[CV] END ....................C=1, gamma=scale, kernel=linear; total time=  10.4s\n",
      "[CV] END ........................C=1, gamma=auto, kernel=rbf; total time=   0.0s\n",
      "[CV] END ........................C=1, gamma=auto, kernel=rbf; total time=   0.0s\n",
      "[CV] END ........................C=1, gamma=auto, kernel=rbf; total time=   0.0s\n",
      "[CV] END .....................C=1, gamma=auto, kernel=linear; total time=   8.2s\n",
      "[CV] END .....................C=1, gamma=auto, kernel=linear; total time=   8.2s\n",
      "[CV] END .....................C=1, gamma=auto, kernel=linear; total time=  10.4s\n",
      "[CV] END ......................C=10, gamma=scale, kernel=rbf; total time=   0.0s\n",
      "[CV] END ......................C=10, gamma=scale, kernel=rbf; total time=   0.0s\n",
      "[CV] END ......................C=10, gamma=scale, kernel=rbf; total time=   0.0s\n",
      "[CV] END ...................C=10, gamma=scale, kernel=linear; total time=   9.0s\n",
      "[CV] END ...................C=10, gamma=scale, kernel=linear; total time=   8.7s\n",
      "[CV] END ...................C=10, gamma=scale, kernel=linear; total time=   9.5s\n",
      "[CV] END .......................C=10, gamma=auto, kernel=rbf; total time=   0.0s\n",
      "[CV] END .......................C=10, gamma=auto, kernel=rbf; total time=   0.0s\n",
      "[CV] END .......................C=10, gamma=auto, kernel=rbf; total time=   0.0s\n",
      "[CV] END ....................C=10, gamma=auto, kernel=linear; total time=   9.0s\n",
      "[CV] END ....................C=10, gamma=auto, kernel=linear; total time=   8.9s\n",
      "[CV] END ....................C=10, gamma=auto, kernel=linear; total time=   9.7s\n",
      "[CV] END .....................C=100, gamma=scale, kernel=rbf; total time=   0.0s\n",
      "[CV] END .....................C=100, gamma=scale, kernel=rbf; total time=   0.0s\n",
      "[CV] END .....................C=100, gamma=scale, kernel=rbf; total time=   0.0s\n",
      "[CV] END ..................C=100, gamma=scale, kernel=linear; total time=  10.7s\n",
      "[CV] END ..................C=100, gamma=scale, kernel=linear; total time=   8.7s\n",
      "[CV] END ..................C=100, gamma=scale, kernel=linear; total time=   9.6s\n",
      "[CV] END ......................C=100, gamma=auto, kernel=rbf; total time=   0.0s\n",
      "[CV] END ......................C=100, gamma=auto, kernel=rbf; total time=   0.0s\n",
      "[CV] END ......................C=100, gamma=auto, kernel=rbf; total time=   0.0s\n",
      "[CV] END ...................C=100, gamma=auto, kernel=linear; total time=  11.1s\n",
      "[CV] END ...................C=100, gamma=auto, kernel=linear; total time=   8.7s\n",
      "[CV] END ...................C=100, gamma=auto, kernel=linear; total time=   9.8s\n",
      "[CV] END ....................C=1000, gamma=scale, kernel=rbf; total time=   0.0s\n",
      "[CV] END ....................C=1000, gamma=scale, kernel=rbf; total time=   0.0s\n",
      "[CV] END ....................C=1000, gamma=scale, kernel=rbf; total time=   0.0s\n",
      "[CV] END .................C=1000, gamma=scale, kernel=linear; total time=  10.9s\n",
      "[CV] END .................C=1000, gamma=scale, kernel=linear; total time=   8.6s\n",
      "[CV] END .................C=1000, gamma=scale, kernel=linear; total time=   9.6s\n",
      "[CV] END .....................C=1000, gamma=auto, kernel=rbf; total time=   0.0s\n",
      "[CV] END .....................C=1000, gamma=auto, kernel=rbf; total time=   0.0s\n",
      "[CV] END .....................C=1000, gamma=auto, kernel=rbf; total time=   0.0s\n",
      "[CV] END ..................C=1000, gamma=auto, kernel=linear; total time=  10.9s\n",
      "[CV] END ..................C=1000, gamma=auto, kernel=linear; total time=   8.8s\n",
      "[CV] END ..................C=1000, gamma=auto, kernel=linear; total time=   9.6s\n"
     ]
    },
    {
     "data": {
      "text/plain": [
       "GridSearchCV(cv=3, estimator=SVR(),\n",
       "             param_grid={'C': [0.1, 1, 10, 100, 1000],\n",
       "                         'gamma': ['scale', 'auto'],\n",
       "                         'kernel': ['rbf', 'linear']},\n",
       "             scoring='neg_mean_absolute_error', verbose=2)"
      ]
     },
     "execution_count": 99,
     "metadata": {},
     "output_type": "execute_result"
    }
   ],
   "source": [
    "param_grid = {'C': [0.1, 1, 10, 100, 1000],\n",
    "              'gamma': ['scale', 'auto'],\n",
    "              'kernel': ['rbf', 'linear']}\n",
    "\n",
    "gs_svc = GridSearchCV(svr, param_grid=param_grid, scoring='neg_mean_absolute_error', cv=3, verbose=2)\n",
    "gs_svc.fit(X_train, y_train)"
   ]
  },
  {
   "cell_type": "code",
   "execution_count": 101,
   "id": "086d47b4",
   "metadata": {},
   "outputs": [
    {
     "name": "stdout",
     "output_type": "stream",
     "text": [
      "-33.30709571350865\n",
      "SVR(C=100)\n"
     ]
    }
   ],
   "source": [
    "# SVR(C=100)\n",
    "print(gs_svc.best_score_)\n",
    "print(gs_svc.best_estimator_)"
   ]
  },
  {
   "cell_type": "code",
   "execution_count": 124,
   "id": "52879594",
   "metadata": {},
   "outputs": [
    {
     "name": "stderr",
     "output_type": "stream",
     "text": [
      "C:\\Users\\User\\anaconda3\\lib\\site-packages\\sklearn\\base.py:450: UserWarning: X does not have valid feature names, but RandomForestRegressor was fitted with feature names\n",
      "  warnings.warn(\n"
     ]
    }
   ],
   "source": [
    "tpred_lml = lm_l.predict(X_test)\n",
    "tpred_rf = gs.best_estimator_.predict(X_test)\n",
    "tpred_svr = gs_svc.best_estimator_.predict(X_test)"
   ]
  },
  {
   "cell_type": "code",
   "execution_count": 126,
   "id": "1e18078a",
   "metadata": {},
   "outputs": [
    {
     "name": "stdout",
     "output_type": "stream",
     "text": [
      "Lasso Regression: 58.12651626872975\n",
      "Random Forest: 33.07105263157895\n",
      "SVR: 28.686615307470195\n",
      "RF and SVR: 27.43930653673374\n"
     ]
    }
   ],
   "source": [
    "from sklearn.metrics import mean_absolute_error\n",
    "print(\"Lasso Regression: {}\".format(mean_absolute_error(y_test, tpred_lml)))\n",
    "print(\"Random Forest: {}\".format(mean_absolute_error(y_test, tpred_rf)))\n",
    "print(\"SVR: {}\".format(mean_absolute_error(y_test, tpred_svr)))\n",
    "print(\"RF and SVR: {}\".format(mean_absolute_error(y_test, (tpred_svr + tpred_rf)/2)))"
   ]
  },
  {
   "cell_type": "code",
   "execution_count": null,
   "id": "ca5cd78c",
   "metadata": {},
   "outputs": [],
   "source": []
  }
 ],
 "metadata": {
  "kernelspec": {
   "display_name": "Python 3 (ipykernel)",
   "language": "python",
   "name": "python3"
  },
  "language_info": {
   "codemirror_mode": {
    "name": "ipython",
    "version": 3
   },
   "file_extension": ".py",
   "mimetype": "text/x-python",
   "name": "python",
   "nbconvert_exporter": "python",
   "pygments_lexer": "ipython3",
   "version": "3.9.7"
  }
 },
 "nbformat": 4,
 "nbformat_minor": 5
}
